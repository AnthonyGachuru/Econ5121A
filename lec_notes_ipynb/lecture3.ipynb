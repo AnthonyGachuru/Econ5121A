{
 "cells": [
  {
   "cell_type": "markdown",
   "metadata": {},
   "source": [
    "Notation: $y_{i}$ is a scalar, and $x_{i}$ is a $K\\times1$ vector. $Y$\n",
    "is an $n\\times 1$ vector, and $X$ is an $n\\times K$ matrix.\n",
    "\n",
    "Algebra of Least Squares\n",
    "========================"
   ]
  },
  {
   "cell_type": "markdown",
   "metadata": {},
   "source": [
    "OLS estimator\n",
    "-------------\n",
    "\n",
    "As we have learned from the linear project model, the parameter $\\beta$\n",
    "$$\\begin{aligned}\n",
    "y_{i} & =  x'_{i}\\beta+e_{i}\\\\\n",
    "E[x_{i}e_{i}] & =  0\\end{aligned}$$ can be written as\n",
    "$\\beta=\\left(E\\left[x_{i}x_{i}'\\right]\\right)^{-1}E\\left[x_{i}y_{i}\\right].$\n",
    "\n",
    "While population is something imaginary, in reality we possess a sample\n",
    "of $n$ observations. We thus replace the population mean\n",
    "$E\\left[\\cdot\\right]$ by the sample mean, and the resulting estimator is\n",
    "$$\\widehat{\\beta}=\\left(\\frac{1}{n}\\sum_{i=1}^{n}x_{i}x_{i}'\\right)^{-1}\\frac{1}{n}\\sum_{i=1}^{n}x_{i}y_{i}=\\left(X'X\\right)^{-1}X'y.$$\n",
    "This is one way to motivate the OLS estimator."
   ]
  },
  {
   "cell_type": "code",
   "execution_count": 1,
   "metadata": {},
   "outputs": [],
   "source": [
    "n = 100\n",
    "beta0 = c(1.0, 1.0, 0.0) \n",
    "X = cbind(rnorm(n), rpois(n, 3) )\n",
    "e = rlogis(n) # the error term does not have to be normally distributed\n",
    "\n",
    "y = cbind(1, X ) %*% beta0 + e # generate data\n",
    "# in reality, we observe y and X but not e and beta0"
   ]
  },
  {
   "cell_type": "markdown",
   "metadata": {},
   "source": [
    "Alternatively, we can derive the OLS estimator from minimizing the sum\n",
    "of squared residuals\n",
    "$$Q\\left(\\beta\\right)=\\sum_{i=1}^{n}\\left(y_{i}-x_{i}'\\beta\\right)^{2}=\\left(Y-X\\beta\\right)'\\left(Y-X\\beta\\right).$$\n",
    "By the first-order condition\n",
    "$$\\frac{\\partial}{\\partial\\beta}Q\\left(\\beta\\right)=-2X'\\left(Y-X\\beta\\right),$$\n",
    "the optimality condition gives exactly the same $\\widehat{\\beta}$.\n",
    "Moreover, the second-order condition\n",
    "$$\\frac{\\partial^{2}}{\\partial\\beta\\partial\\beta'}Q\\left(\\beta\\right)=2X'X$$\n",
    "shows that $Q\\left(\\beta\\right)$ is convex in $\\beta$.\n",
    "($Q\\left(\\beta\\right)$ is strictly convex in $\\beta$ if $X'X$ is\n",
    "positive definite.)"
   ]
  },
  {
   "cell_type": "code",
   "execution_count": 2,
   "metadata": {},
   "outputs": [
    {
     "name": "stdout",
     "output_type": "stream",
     "text": [
      "\n",
      "Call:\n",
      "lm(formula = y ~ X)\n",
      "\n",
      "Coefficients:\n",
      "(Intercept)           X1           X2  \n",
      "     1.4038       0.8653      -0.1416  \n",
      "\n",
      "           [,1]\n",
      "[1,]  1.4038302\n",
      "[2,]  0.8653284\n",
      "[3,] -0.1416352\n"
     ]
    }
   ],
   "source": [
    "reg1 = lm( y ~ X ) # OLS regression\n",
    "print(reg1)\n",
    "\n",
    "X1 = cbind(1, X)\n",
    "bhat = solve(t(X1)%*%X1, t(X1) %*% y )\n",
    "print(bhat)"
   ]
  },
  {
   "cell_type": "markdown",
   "metadata": {},
   "source": [
    "Here we introduce some definitions and properties in OLS estimation.\n",
    "\n",
    "-   Fitted value: $\\widehat{Y}=X\\widehat{\\beta}$.\n",
    "\n",
    "-   Projector: $P_{X}=X\\left(X'X\\right)^{-1}X$; Annihilator:\n",
    "    $M_{X}=I_{n}-P_{X}$.\n",
    "\n",
    "-   $P_{X}M_{X}=M_{X}P_{X}=0$.\n",
    "\n",
    "-   If $AA=A$, we call it an idempotent matrix. Both $P_{X}$ and $M_{X}$\n",
    "    are idempotent.\n",
    "\n",
    "-   Residual:\n",
    "    $\\widehat{e}=Y-\\widehat{Y}=Y-X\\widehat{\\beta}=M_{X}Y=M_{X}\\left(X\\beta+e\\right)=M_{X}e$.\n",
    "\n",
    "-   $X'\\widehat{e}=XM_{X}e=0$.\n",
    "\n",
    "-   $\\frac{1}{n}\\sum_{i=1}^{n}\\widehat{e}_{i}=0$ if $x_{i}$ contains a\n",
    "    constant."
   ]
  },
  {
   "cell_type": "code",
   "execution_count": 3,
   "metadata": {},
   "outputs": [
    {
     "data": {
      "image/png": "[encoded data removed]",
      "text/plain": [
       "plot without title"
      ]
     },
     "metadata": {},
     "output_type": "display_data"
    }
   ],
   "source": [
    "yhat = predict( reg1, data  = X ) # predicted value from the OLS regression\n",
    "matplot( x = X[,1], y = cbind(y, yhat), pch = 1:2, xlab = \"x\", ylab = \"y\") # a graph between x1 and y and yhat\n",
    "legend(x = 1.2, y = -2, pch = 1:2, col = 1:2, legend = c(\"y\", \"predicted\"))"
   ]
  },
  {
   "cell_type": "code",
   "execution_count": 4,
   "metadata": {},
   "outputs": [
    {
     "name": "stdout",
     "output_type": "stream",
     "text": [
      "              [,1]\n",
      "[1,]  9.547918e-15\n",
      "[2,]  5.005282e-14\n",
      "[3,] -1.931788e-13\n"
     ]
    }
   ],
   "source": [
    "# check the orthogonality of ehat and X1\n",
    "ehat = y - X1 %*% bhat\n",
    "print( t(X1) %*% ehat )"
   ]
  },
  {
   "cell_type": "markdown",
   "metadata": {},
   "source": [
    "**Real Data Example**\n",
    "\n",
    "We check the relationship of having \n",
    "health insurance and a person's education. \n",
    "We use `age` and `family` as control variables"
   ]
  },
  {
   "cell_type": "code",
   "execution_count": 5,
   "metadata": {},
   "outputs": [
    {
     "name": "stderr",
     "output_type": "stream",
     "text": [
      "\n",
      "Attaching package: 'Ecfun'\n",
      "\n",
      "The following object is masked from 'package:base':\n",
      "\n",
      "    sign\n",
      "\n"
     ]
    },
    {
     "data": {
      "text/html": [
       "\n",
       "<table width=\"100%\" summary=\"page for Doctor {Ecdat}\"><tr><td>Doctor {Ecdat}</td><td style=\"text-align: right;\">R Documentation</td></tr></table>\n",
       "\n",
       "<h2>Number of Doctor Visits </h2>\n",
       "\n",
       "<h3>Description</h3>\n",
       "\n",
       "<p>a cross-section from 1986\n",
       "</p>\n",
       "<p><em>number of observations</em> :  485\n",
       "</p>\n",
       "<p><em>observation</em> :  individuals\n",
       "</p>\n",
       "<p><em>country</em> :  United States\n",
       "</p>\n",
       "\n",
       "\n",
       "<h3>Usage</h3>\n",
       "\n",
       "<pre>data(Doctor)</pre>\n",
       "\n",
       "\n",
       "<h3>Format</h3>\n",
       "\n",
       "<p>A dataframe containing :\n",
       "</p>\n",
       "\n",
       "<dl>\n",
       "<dt>doctor</dt><dd><p>the number of doctor visits</p>\n",
       "</dd>\n",
       "<dt>children</dt><dd><p>the number of children in the household</p>\n",
       "</dd>\n",
       "<dt>access</dt><dd><p>is a measure of access to health care</p>\n",
       "</dd>\n",
       "<dt>health</dt><dd><p>a measure of health status (larger positive numbers are  associated with poorer health)</p>\n",
       "</dd>\n",
       "</dl>\n",
       "\n",
       "\n",
       "\n",
       "<h3>Source</h3>\n",
       "\n",
       "<p>Gurmu, Shiferaw (1997) &ldquo;Semiparametric estimation of hurdle regression models with an application to medicaid utilization&rdquo;, <em>Journal of Applied Econometrics</em>, <b>12(3)</b>, 225-242.\n",
       "</p>\n",
       "\n",
       "\n",
       "<h3>References</h3>\n",
       "\n",
       "<p>Davidson, R.  and  James G.  MacKinnon (2004) <em>Econometric Theory and Methods</em>, New York, Oxford University Press, <a href=\"http://www.econ.queensu.ca/ETM/\">http://www.econ.queensu.ca/ETM/</a>, chapter 11.\n",
       "</p>\n",
       "<p>Journal of Applied Econometrics data archive : <a href=\"http://qed.econ.queensu.ca/jae/\">http://qed.econ.queensu.ca/jae/</a>.\n",
       "</p>\n",
       "\n",
       "\n",
       "<h3>See Also</h3>\n",
       "\n",
       "<p><code>Index.Source</code>, <code>Index.Economics</code>, <code>Index.Econometrics</code>, <code>Index.Observations</code></p>\n",
       "\n",
       "<hr /><div style=\"text-align: center;\">[Package <em>Ecdat</em> version 0.3-1 ]</div>"
      ],
      "text/latex": [
       "\\inputencoding{utf8}\n",
       "\\HeaderA{Doctor}{Number of Doctor Visits }{Doctor}\n",
       "\\keyword{datasets}{Doctor}\n",
       "%\n",
       "\\begin{Description}\\relax\n",
       "a cross-section from 1986\n",
       "\n",
       "\\emph{number of observations} :  485\n",
       "\n",
       "\\emph{observation} :  individuals\n",
       "\n",
       "\\emph{country} :  United States\n",
       "\n",
       "\\end{Description}\n",
       "%\n",
       "\\begin{Usage}\n",
       "\\begin{verbatim}\n",
       "data(Doctor)\n",
       "\\end{verbatim}\n",
       "\\end{Usage}\n",
       "%\n",
       "\\begin{Format}\n",
       "A dataframe containing :\n",
       "\\begin{description}\n",
       "\n",
       "\\item[doctor] the number of doctor visits\n",
       "\\item[children] the number of children in the household\n",
       "\\item[access] is a measure of access to health care\n",
       "\\item[health] a measure of health status (larger positive numbers are  associated with poorer health)\n",
       "\n",
       "\\end{description}\n",
       "\n",
       "\\end{Format}\n",
       "%\n",
       "\\begin{Source}\\relax\n",
       "Gurmu, Shiferaw (1997) ``Semiparametric estimation of hurdle regression models with an application to medicaid utilization'', \\emph{Journal of Applied Econometrics}, \\bold{12(3)}, 225-242.\n",
       "\n",
       "\\end{Source}\n",
       "%\n",
       "\\begin{References}\\relax\n",
       "Davidson, R.  and  James G.  MacKinnon (2004) \\emph{Econometric Theory and Methods}, New York, Oxford University Press, \\url{http://www.econ.queensu.ca/ETM/}, chapter 11.\n",
       "\n",
       "Journal of Applied Econometrics data archive : \\url{http://qed.econ.queensu.ca/jae/}.\n",
       "\\end{References}\n",
       "%\n",
       "\\begin{SeeAlso}\\relax\n",
       "\\code{\\LinkA{Index.Source}{Index.Source}}, \\code{\\LinkA{Index.Economics}{Index.Economics}}, \\code{\\LinkA{Index.Econometrics}{Index.Econometrics}}, \\code{\\LinkA{Index.Observations}{Index.Observations}}\n",
       "\\end{SeeAlso}"
      ],
      "text/plain": [
       "Doctor                  package:Ecdat                  R Documentation\n",
       "\n",
       "_\bN_\bu_\bm_\bb_\be_\br _\bo_\bf _\bD_\bo_\bc_\bt_\bo_\br _\bV_\bi_\bs_\bi_\bt_\bs\n",
       "\n",
       "_\bD_\be_\bs_\bc_\br_\bi_\bp_\bt_\bi_\bo_\bn:\n",
       "\n",
       "     a cross-section from 1986\n",
       "\n",
       "     _number of observations_ : 485\n",
       "\n",
       "     _observation_ : individuals\n",
       "\n",
       "     _country_ : United States\n",
       "\n",
       "_\bU_\bs_\ba_\bg_\be:\n",
       "\n",
       "     data(Doctor)\n",
       "     \n",
       "_\bF_\bo_\br_\bm_\ba_\bt:\n",
       "\n",
       "     A dataframe containing :\n",
       "\n",
       "     doctor the number of doctor visits\n",
       "\n",
       "     children the number of children in the household\n",
       "\n",
       "     access is a measure of access to health care\n",
       "\n",
       "     health a measure of health status (larger positive numbers are\n",
       "          associated with poorer health)\n",
       "\n",
       "_\bS_\bo_\bu_\br_\bc_\be:\n",
       "\n",
       "     Gurmu, Shiferaw (1997) \"Semiparametric estimation of hurdle\n",
       "     regression models with an application to medicaid utilization\",\n",
       "     _Journal of Applied Econometrics_, *12(3)*, 225-242.\n",
       "\n",
       "_\bR_\be_\bf_\be_\br_\be_\bn_\bc_\be_\bs:\n",
       "\n",
       "     Davidson, R.  and James G.  MacKinnon (2004) _Econometric Theory\n",
       "     and Methods_, New York, Oxford University Press, <URL:\n",
       "     http://www.econ.queensu.ca/ETM/>, chapter 11.\n",
       "\n",
       "     Journal of Applied Econometrics data archive : <URL:\n",
       "     http://qed.econ.queensu.ca/jae/>.\n",
       "\n",
       "_\bS_\be_\be _\bA_\bl_\bs_\bo:\n",
       "\n",
       "     'Index.Source', 'Index.Economics', 'Index.Econometrics',\n",
       "     'Index.Observations'\n"
      ]
     },
     "metadata": {},
     "output_type": "display_data"
    }
   ],
   "source": [
    "library(Ecdat, quietly = TRUE, warn.conflicts = FALSE)\n",
    "?Doctor"
   ]
  },
  {
   "cell_type": "code",
   "execution_count": 6,
   "metadata": {},
   "outputs": [
    {
     "data": {
      "text/html": [
       "<table>\n",
       "<thead><tr><th scope=col>doctor</th><th scope=col>children</th><th scope=col>access</th><th scope=col>health</th></tr></thead>\n",
       "<tbody>\n",
       "\t<tr><td> 0    </td><td>1     </td><td>0.50  </td><td> 0.495</td></tr>\n",
       "\t<tr><td> 1    </td><td>3     </td><td>0.17  </td><td> 0.520</td></tr>\n",
       "\t<tr><td> 0    </td><td>4     </td><td>0.42  </td><td>-1.227</td></tr>\n",
       "\t<tr><td> 0    </td><td>2     </td><td>0.33  </td><td>-1.524</td></tr>\n",
       "\t<tr><td>11    </td><td>1     </td><td>0.67  </td><td> 0.173</td></tr>\n",
       "\t<tr><td> 3    </td><td>1     </td><td>0.25  </td><td>-0.905</td></tr>\n",
       "</tbody>\n",
       "</table>\n"
      ],
      "text/latex": [
       "\\begin{tabular}{r|llll}\n",
       " doctor & children & access & health\\\\\n",
       "\\hline\n",
       "\t  0     & 1      & 0.50   &  0.495\\\\\n",
       "\t  1     & 3      & 0.17   &  0.520\\\\\n",
       "\t  0     & 4      & 0.42   & -1.227\\\\\n",
       "\t  0     & 2      & 0.33   & -1.524\\\\\n",
       "\t 11     & 1      & 0.67   &  0.173\\\\\n",
       "\t  3     & 1      & 0.25   & -0.905\\\\\n",
       "\\end{tabular}\n"
      ],
      "text/markdown": [
       "\n",
       "doctor | children | access | health | \n",
       "|---|---|---|---|---|---|\n",
       "|  0     | 1      | 0.50   |  0.495 | \n",
       "|  1     | 3      | 0.17   |  0.520 | \n",
       "|  0     | 4      | 0.42   | -1.227 | \n",
       "|  0     | 2      | 0.33   | -1.524 | \n",
       "| 11     | 1      | 0.67   |  0.173 | \n",
       "|  3     | 1      | 0.25   | -0.905 | \n",
       "\n",
       "\n"
      ],
      "text/plain": [
       "  doctor children access health\n",
       "1  0     1        0.50    0.495\n",
       "2  1     3        0.17    0.520\n",
       "3  0     4        0.42   -1.227\n",
       "4  0     2        0.33   -1.524\n",
       "5 11     1        0.67    0.173\n",
       "6  3     1        0.25   -0.905"
      ]
     },
     "metadata": {},
     "output_type": "display_data"
    }
   ],
   "source": [
    "data(Doctor)\n",
    "head(Doctor) # display the data structure"
   ]
  },
  {
   "cell_type": "code",
   "execution_count": 7,
   "metadata": {},
   "outputs": [
    {
     "name": "stdout",
     "output_type": "stream",
     "text": [
      "\n",
      "Call:\n",
      "lm(formula = health ~ doctor + children + access, data = Doctor)\n",
      "\n",
      "Coefficients:\n",
      "(Intercept)       doctor     children       access  \n",
      "   -0.02810      0.12059      0.03323     -0.63320  \n",
      "\n"
     ]
    }
   ],
   "source": [
    "reg = lm(health ~ doctor + children + access, data = Doctor)\n",
    "print(reg)"
   ]
  },
  {
   "cell_type": "code",
   "execution_count": 8,
   "metadata": {},
   "outputs": [
    {
     "data": {
      "text/plain": [
       "\n",
       "Call:\n",
       "lm(formula = health ~ doctor + children + access, data = Doctor)\n",
       "\n",
       "Residuals:\n",
       "    Min      1Q  Median      3Q     Max \n",
       "-3.3370 -1.0085 -0.3261  0.6938  6.1266 \n",
       "\n",
       "Coefficients:\n",
       "            Estimate Std. Error t value Pr(>|t|)    \n",
       "(Intercept) -0.02810    0.18281  -0.154    0.878    \n",
       "doctor       0.12059    0.01884   6.399 3.71e-10 ***\n",
       "children     0.03323    0.04771   0.697    0.486    \n",
       "access      -0.63320    0.33724  -1.878    0.061 .  \n",
       "---\n",
       "Signif. codes:  0 '***' 0.001 '**' 0.01 '*' 0.05 '.' 0.1 ' ' 1\n",
       "\n",
       "Residual standard error: 1.378 on 481 degrees of freedom\n",
       "Multiple R-squared:  0.08221,\tAdjusted R-squared:  0.07649 \n",
       "F-statistic: 14.36 on 3 and 481 DF,  p-value: 5.628e-09\n"
      ]
     },
     "metadata": {},
     "output_type": "display_data"
    }
   ],
   "source": [
    "summary(reg)"
   ]
  },
  {
   "cell_type": "markdown",
   "metadata": {},
   "source": [
    "Goodness of Fit\n",
    "---------------\n",
    "\n",
    "The so-called R-square is the most popular measure of goodness-of-fit in\n",
    "the linear regression. R-square is well defined only when a constant is\n",
    "included in the regressors. Let\n",
    "$M_{\\iota}=I_{n}-\\frac{1}{n}\\iota\\iota'$, where $\\iota$ is an $n\\times1$\n",
    "vector of 1’s. $M_{\\iota}$ is the *demeaner*, in the sense that\n",
    "$M_{\\iota}\\left(z_{1},\\ldots,z_{n}\\right)'=\\left(z_{1}-\\overline{z},\\ldots,z_{n}-\\overline{z}\\right)'$,\n",
    "where $\\bar{z}=\\frac{1}{n}\\sum_{i=1}^{n}z_{i}$. For any $X$, we can\n",
    "decompose $Y=P_{X}Y+M_{X}Y=\\widehat{Y}+\\widehat{e}$. The total variation\n",
    "is\n",
    "$$Y'M_{\\iota}Y=\\left(\\widehat{Y}+\\widehat{e}\\right)'M_{\\iota}\\left(\\widehat{Y}+\\widehat{e}\\right)=\\widehat{Y}'M_{\\iota}\\widehat{Y}+2\\widehat{Y}'M_{\\iota}\\widehat{e}+\\widehat{e}'M_{\\iota}\\widehat{e}=\\widehat{Y}'M_{\\iota}\\widehat{Y}+\\widehat{e}'\\widehat{e}$$\n",
    "where the last equality follows by $M_{\\iota}\\widehat{e}=\\widehat{e}$ as\n",
    "$\\frac{1}{n}\\sum_{i=1}^{n}\\widehat{e}_{i}=0$, and\n",
    "$\\widehat{Y}'\\widehat{e}=Y'P_{X}M_{X}e=0$. R-square is defined as\n",
    "$\\widehat{Y}'M_{\\iota}\\widehat{Y}/Y'M_{\\iota}Y$."
   ]
  },
  {
   "cell_type": "markdown",
   "metadata": {},
   "source": [
    "Frish-Waugh-Lovell Theorem\n",
    "--------------------------\n",
    "\n",
    "This theorem a formula for the estimate of a subvector.\n",
    "\n",
    "If $Y=X_{1}\\beta_{1}+X_{2}\\beta_{2}+e$, then\n",
    "$\\widehat{\\beta}_{1}=\\left(X_{1}'M_{X_{2}}X_{1}\\right)^{-1}X_{1}'M_{X_{2}}Y.$"
   ]
  },
  {
   "cell_type": "code",
   "execution_count": 9,
   "metadata": {},
   "outputs": [
    {
     "name": "stdout",
     "output_type": "stream",
     "text": [
      "           [,1]\n",
      "[1,] -0.1416352\n"
     ]
    }
   ],
   "source": [
    "X2 = X1[,1:2]\n",
    "PX2 = X2 %*% solve( t(X2) %*% X2) %*% t(X2)\n",
    "MX2 = diag(rep(1,n)) - PX2\n",
    "\n",
    "X3 = X1[,3]\n",
    "\n",
    "bhat3 =  solve(t(X3)%*% MX2 %*% X3, t(X3) %*% MX2 %*% y )\n",
    "print(bhat3)"
   ]
  },
  {
   "cell_type": "markdown",
   "metadata": {},
   "source": [
    "Statistical Properties of Least Squares\n",
    "=======================================\n",
    "\n",
    "To talk about the statistical properties in finite sample, we impose the\n",
    "following assumptions.\n",
    "\n",
    "1.  The data $\\left(y_{i},x_{i}\\right)_{i=1}^{n}$ is a random sample\n",
    "    from the same data generating process $y_{i}=x_{i}'\\beta+e_{i}$.\n",
    "\n",
    "2.  $e_{i}|x_{i}\\sim N\\left(0,\\sigma^{2}\\right)$."
   ]
  },
  {
   "cell_type": "markdown",
   "metadata": {},
   "source": [
    "Maximum Likelihood Estimation\n",
    "-----------------------------------\n",
    "\n",
    "Under the normality assumption,\n",
    "$y_{i}|x_{i}\\sim N\\left(x_{i}'\\beta,\\gamma\\right)$, where\n",
    "$\\gamma=\\sigma^{2}$. The *conditional* likelihood of observing a sample\n",
    "$\\left(y_{i},x_{i}\\right)_{i=1}^{n}$ is\n",
    "$$\\prod_{i=1}^{n}\\frac{1}{\\sqrt{2\\pi\\gamma}}\\exp\\left(-\\frac{1}{2\\gamma}\\left(y_{i}-x_{i}'\\beta\\right)^{2}\\right),$$\n",
    "and the (conditional) log-likelihood function is\n",
    "$$L\\left(\\beta,\\gamma\\right)=-\\frac{n}{2}\\log2\\pi-\\frac{n}{2}\\log\\gamma-\\frac{1}{2\\gamma}\\sum_{i=1}^{n}\\left(y_{i}-x_{i}'\\beta\\right)^{2}.$$\n",
    "Therefore, the maximum likelihood estimator (MLE) coincides with the OLS\n",
    "estimator, and\n",
    "$\\widehat{\\gamma}_{\\mathrm{MLE}}=\\widehat{e}'\\widehat{e}/n$."
   ]
  },
  {
   "cell_type": "markdown",
   "metadata": {},
   "source": [
    "Finite Sample Distribution\n",
    "--------------------------\n",
    "\n",
    "We can show the finite-sample exact distribution of $\\widehat{\\beta}$.\n",
    "*Finite sample distribution* means that the distribution holds for any\n",
    "$n$; it is in contrast to *asymptotic distribution*, which holds only\n",
    "when $n$ is arbitrarily large.\n",
    "\n",
    "Since\n",
    "$$\\widehat{\\beta}=\\left(X'X\\right)^{-1}X'y=\\left(X'X\\right)^{-1}X'\\left(X'\\beta+e\\right)=\\beta+\\left(X'X\\right)^{-1}X'e,$$\n",
    "we have the estimator\n",
    "$\\widehat{\\beta}|X\\sim N\\left(\\beta,\\sigma^{2}\\left(X'X\\right)^{-1}\\right)$,\n",
    "and\n",
    "$$\\widehat{\\beta}_{k}|X\\sim N\\left(\\beta_{k},\\sigma^{2}\\eta_{k}'\\left(X'X\\right)^{-1}\\eta_{k}\\right)\\sim N\\left(\\beta_{k},\\sigma^{2}\\left(X'X\\right)_{kk}^{-1}\\right),$$\n",
    "where $\\eta_{k}=\\left(1\\left\\{ l=k\\right\\} \\right)_{l=1,\\ldots,K}$ is\n",
    "the selector of the $k$-th element.\n",
    "\n",
    "In reality, $\\sigma^{2}$ is an unknown parameter, and\n",
    "$$s^{2}=\\widehat{e}'\\widehat{e}/\\left(n-K\\right)=e'M_{X}e/\\left(n-K\\right)$$\n",
    "is an unbiased estimator of $\\sigma^{2}$. Consider the $T$-statistic\n",
    "$$T_{k}=\\frac{\\widehat{\\beta}_{k}-\\beta_{k}}{\\sqrt{s^{2}\\left[\\left(X'X\\right)^{-1}\\right]_{kk}}}=\\frac{\\left(\\widehat{\\beta}_{k}-\\beta_{k}\\right)/\\sqrt{\\sigma^{2}\\left[\\left(X'X\\right)^{-1}\\right]_{kk}}}{\\sqrt{\\frac{e'}{\\sigma}M_{X}\\frac{e}{\\sigma}/\\left(n-K\\right)}}.$$\n",
    "The numerator follows a standard normal, and the denominator follows\n",
    "$\\frac{1}{n-K}\\chi^{2}\\left(n-K\\right)$. Moreover, the numerator and the\n",
    "denominator are independent. As a result, $T_{k}\\sim t\\left(n-K\\right)$."
   ]
  },
  {
   "cell_type": "markdown",
   "metadata": {},
   "source": [
    "Mean and Variance\n",
    "-----------------\n",
    "\n",
    "Now we relax the normality assumption and statistical independence.\n",
    "Instead, we assume a regression model $y_{i} =  x_{i}'\\beta+e_{i}$ and \n",
    "$$\\begin{aligned}\n",
    "E[e_{i}|x_{i}] & =  0 \\\\\n",
    "E\\left[e_{i}^{2}|x_{i}\\right] & =  \\sigma^{2}.\n",
    "\\end{aligned}$$\n",
    "where the first condition is the *mean independence* assumption, and\n",
    "the second condition is the *homoskedasticity* assumption.\n",
    "\n",
    "**Example**\n",
    "(Heteroskedasticity) If $e_{i}=x_{i}u_{i}$, where $x_{i}$ is a scalar\n",
    "random variable, $u_{i}$ is independent of $x_{i}$,\n",
    "$E\\left[u_{i}\\right]=0$ and $E\\left[u_{i}^{2}\\right]=\\sigma^{2}$. Then\n",
    "$E\\left[e_{i}|x_{i}\\right]=0$ but\n",
    "$E\\left[e_{i}^{2}|x_{i}\\right]=\\sigma_{i}^{2}x_{i}^{2}$ is a function of\n",
    "$x_{i}$. We say $e_{i}^{2}$ is a heteroskedastic error."
   ]
  },
  {
   "cell_type": "code",
   "execution_count": 6,
   "metadata": {},
   "outputs": [
    {
     "data": {
      "image/png": "[encoded data removed]",
      "text/plain": [
       "Plot with title \"homoskedastic\""
      ]
     },
     "metadata": {},
     "output_type": "display_data"
    },
    {
     "data": {
      "image/png": "[encoded data removed]",
      "text/plain": [
       "Plot with title \"heteroskedastic\""
      ]
     },
     "metadata": {},
     "output_type": "display_data"
    }
   ],
   "source": [
    "n = 100\n",
    "X = rnorm(n)\n",
    "\n",
    "e1 = rnorm(n)\n",
    "plot( y = e1, x = X, main = \"homoskedastic\")\n",
    "\n",
    "e2 = X * rnorm(n)  # the source of heteroskedasticity\n",
    "plot( y = e2, x = X,  main = \"heteroskedastic\")"
   ]
  },
  {
   "cell_type": "markdown",
   "metadata": {},
   "source": [
    "These assumptions are about the first and second moment of $e_{i}$\n",
    "conditional on $x_{i}$. Unlike the normality assumption, they do not\n",
    "restrict the entire distribution of $e_{i}$.\n",
    "\n",
    "-   Unbiasedness:\n",
    "    $$E\\left[\\widehat{\\beta}|X\\right]=E\\left[\\left(X'X\\right)^{-1}XY|X\\right]=E\\left[\\left(X'X\\right)^{-1}X\\left(X'\\beta+e\\right)|X\\right]=\\beta.$$\n",
    "    Unbiasedness does not rely on homoskedasticity.\n",
    "\n",
    "-   Variance: $$\\begin{aligned}\n",
    "    \\mathrm{var}\\left(\\widehat{\\beta}|X\\right) & =  E\\left[\\left(\\widehat{\\beta}-E\\widehat{\\beta}\\right)\\left(\\widehat{\\beta}-E\\widehat{\\beta}\\right)'|X\\right]\\\\\n",
    "     & =  E\\left[\\left(\\widehat{\\beta}-\\beta\\right)\\left(\\widehat{\\beta}-\\beta\\right)'|X\\right]\\\\\n",
    "     & =  E\\left[\\left(X'X\\right)^{-1}X'ee'X\\left(X'X\\right)^{-1}|X\\right]\\\\\n",
    "     & =  \\left(X'X\\right)^{-1}X'E\\left[ee'|X\\right]X\\left(X'X\\right)^{-1}\\\\\n",
    "     & =  \\left(X'X\\right)^{-1}X'\\left(\\sigma^{2}I_{n}\\right)X\\left(X'X\\right)^{-1}\\\\\n",
    "     & =  \\sigma^{2}\\left(X'X\\right)^{-1}.\\end{aligned}$$"
   ]
  },
  {
   "cell_type": "markdown",
   "metadata": {},
   "source": [
    "Gauss-Markov Theorem\n",
    "--------------------------\n",
    "\n",
    "Gauss-Markov theorem justifies the OLS estimator as the efficient\n",
    "estimator among all linear unbiased ones. *Efficient* here means that it\n",
    "enjoys the smallest variance in a family of estimators.\n",
    "\n",
    "There are numerous linearly unbiased estimators. For example,\n",
    "$\\left(Z'X\\right)^{-1}Z'y$ for $z_{i}=x_{i}^{2}$ is unbiased because\n",
    "$E\\left[\\left(Z'X\\right)^{-1}Z'y\\right]=E\\left[\\left(Z'X\\right)^{-1}Z'\\left(X\\beta+e\\right)\\right]=\\beta$.\n",
    "\n",
    "Let $\\tilde{\\beta}=A'y$ be a generic linear estimator, where $A$ is any\n",
    "$n\\times K$ functions of $X$. As\n",
    "$$E\\left[A'y|X\\right]=E\\left[A'\\left(X\\beta+e\\right)|X\\right]=A'X\\beta.$$\n",
    "So the linearity and unbiasedness of $\\tilde{\\beta}$ implies\n",
    "$A'X=I_{n}$. Moreover, the variance\n",
    "$$\\mbox{var}\\left(A'y|X\\right)=E\\left[\\left(A'y-\\beta\\right)\\left(A'y-\\beta\\right)'|X\\right]=E\\left[A'ee'A|X\\right]=\\sigma^{2}A'A.$$\n",
    "Let $C=A-X\\left(X'X\\right)^{-1}.$ \n",
    "$$\\begin{aligned}\n",
    "A'A-\\left(X'X\\right)^{-1} \n",
    " & =  \\left(C+X\\left(X'X\\right)^{-1}\\right)'\\left(C+X\\left(X'X\\right)^{-1}\\right)-\\left(X'X\\right)^{-1}\\\\\n",
    " & =  C'C+\\left(X'X\\right)^{-1}X'C+C'X\\left(X'X\\right)^{-1} \\\\\n",
    " & =C'C,\n",
    " \\end{aligned}$$\n",
    "where the last equality follows as\n",
    "$$\\left(X'X\\right)^{-1}X'C=\\left(X'X\\right)^{-1}X'\\left(A-X\\left(X'X\\right)^{-1}\\right)=\\left(X'X\\right)^{-1}-\\left(X'X\\right)^{-1}=0.$$\n",
    "Therefore $A'A-\\left(X'X\\right)^{-1}$ is a positive semi-definite\n",
    "matrix. The variance of any $\\tilde{\\beta}$ is no smaller than the OLS\n",
    "estimator $\\widehat{\\beta}$.\n",
    "\n",
    "Homoskedasticity is a restrictive assumption. Under homoskedasticity,\n",
    "$\\mathrm{var}\\left(\\widehat{\\beta}\\right)=\\sigma^{2}\\left(X'X\\right)^{-1}$.\n",
    "Popular estimator of $\\sigma^{2}$ is the sample mean of the residuals\n",
    "$\\widehat{\\sigma}^{2}=\\frac{1}{n}\\widehat{e}'\\widehat{e}$ or the\n",
    "unbiased one $s^{2}=\\frac{1}{n-K}\\widehat{e}'\\widehat{e}$. Under\n",
    "heteroskedasticity, Gauss-Markov theorem does not apply."
   ]
  }
 ],
 "metadata": {
  "kernelspec": {
   "display_name": "R",
   "language": "R",
   "name": "ir"
  },
  "language_info": {
   "codemirror_mode": "r",
   "file_extension": ".r",
   "mimetype": "text/x-r-source",
   "name": "R",
   "pygments_lexer": "r",
   "version": "3.5.0"
  }
 },
 "nbformat": 4,
 "nbformat_minor": 2
}
