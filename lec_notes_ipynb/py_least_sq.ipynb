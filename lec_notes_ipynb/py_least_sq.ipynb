{
 "cells": [
  {
   "cell_type": "markdown",
   "metadata": {},
   "source": [
    "Notation: $y_{i}$ is a scalar, and $x_{i}$ is a $K\\times1$ vector. $Y$\n",
    "is an $n\\times 1$ vector, and $X$ is an $n\\times K$ matrix.\n",
    "\n",
    "Algebra of Least Squares\n",
    "========================"
   ]
  },
  {
   "cell_type": "code",
   "execution_count": 1,
   "metadata": {
    "inputHidden": false,
    "outputHidden": false
   },
   "outputs": [],
   "source": [
    "%matplotlib inline"
   ]
  },
  {
   "cell_type": "markdown",
   "metadata": {},
   "source": [
    "OLS estimator\n",
    "-------------\n",
    "\n",
    "As we have learned from the linear project model, the parameter $\\beta$\n",
    "$$\\begin{aligned}\n",
    "y_{i} & =  x'_{i}\\beta+e_{i}\\\\\n",
    "E[x_{i}e_{i}] & =  0\\end{aligned}$$ can be written as\n",
    "$\\beta=\\left(E\\left[x_{i}x_{i}'\\right]\\right)^{-1}E\\left[x_{i}y_{i}\\right].$\n",
    "\n",
    "While population is something imaginary, in reality we possess a sample\n",
    "of $n$ observations. We thus replace the population mean\n",
    "$E\\left[\\cdot\\right]$ by the sample mean, and the resulting estimator is\n",
    "$$\\widehat{\\beta}=\\left(\\frac{1}{n}\\sum_{i=1}^{n}x_{i}x_{i}'\\right)^{-1}\\frac{1}{n}\\sum_{i=1}^{n}x_{i}y_{i}=\\left(X'X\\right)^{-1}X'y.$$\n",
    "This is one way to motivate the OLS estimator.\n",
    "\n",
    "Below is an example of OLS estimation"
   ]
  },
  {
   "cell_type": "code",
   "execution_count": 2,
   "metadata": {},
   "outputs": [],
   "source": [
    "import numpy as np\n",
    "\n",
    "n = 30\n",
    "b0 = np.matrix([[1.0],[0.5]])\n",
    "\n",
    "e = np.random.normal(size = (n,1))\n",
    "X = np.hstack((np.ones((n, 1)), np.random.normal(size = (n, 1))))\n",
    "y = np.dot(X, b0) + e"
   ]
  },
  {
   "cell_type": "code",
   "execution_count": 4,
   "metadata": {
    "scrolled": false
   },
   "outputs": [
    {
     "name": "stdout",
     "output_type": "stream",
     "text": [
      "                            OLS Regression Results                            \n",
      "==============================================================================\n",
      "Dep. Variable:                      y   R-squared:                       0.349\n",
      "Model:                            OLS   Adj. R-squared:                  0.326\n",
      "Method:                 Least Squares   F-statistic:                     15.04\n",
      "Date:                Fri, 06 Sep 2019   Prob (F-statistic):           0.000581\n",
      "Time:                        22:20:54   Log-Likelihood:                -41.208\n",
      "No. Observations:                  30   AIC:                             86.42\n",
      "Df Residuals:                      28   BIC:                             89.22\n",
      "Df Model:                           1                                         \n",
      "Covariance Type:            nonrobust                                         \n",
      "==============================================================================\n",
      "                 coef    std err          t      P>|t|      [0.025      0.975]\n",
      "------------------------------------------------------------------------------\n",
      "const          0.7810      0.181      4.321      0.000       0.411       1.151\n",
      "x1             0.5756      0.148      3.879      0.001       0.272       0.880\n",
      "==============================================================================\n",
      "Omnibus:                        2.448   Durbin-Watson:                   2.910\n",
      "Prob(Omnibus):                  0.294   Jarque-Bera (JB):                1.320\n",
      "Skew:                          -0.474   Prob(JB):                        0.517\n",
      "Kurtosis:                       3.399   Cond. No.                         1.22\n",
      "==============================================================================\n",
      "\n",
      "Warnings:\n",
      "[1] Standard Errors assume that the covariance matrix of the errors is correctly specified.\n"
     ]
    }
   ],
   "source": [
    "import statsmodels.api as sm\n",
    "\n",
    "model = sm.OLS(y, X)\n",
    "results = model.fit()\n",
    "print(results.summary())"
   ]
  },
  {
   "cell_type": "code",
   "execution_count": 3,
   "metadata": {},
   "outputs": [
    {
     "name": "stdout",
     "output_type": "stream",
     "text": [
      "[[0.86451209]\n",
      " [0.5518908 ]]\n"
     ]
    }
   ],
   "source": [
    "bhat = np.dot(np.linalg.inv(np.dot( X.T, X ) ), np.dot( X.T, y ) ) \n",
    "print(bhat)"
   ]
  },
  {
   "cell_type": "code",
   "execution_count": 5,
   "metadata": {},
   "outputs": [
    {
     "data": {
      "image/png": "[encoded data removed]",
      "text/plain": [
       "<Figure size 432x288 with 1 Axes>"
      ]
     },
     "metadata": {},
     "output_type": "display_data"
    }
   ],
   "source": [
    "import matplotlib.pyplot as plt\n",
    "\n",
    "plt.plot(results.fittedvalues, color = 'red', label = 'Fitted Value')\n",
    "plt.plot(y, color = 'blue', linestyle = 'dashed', label = 'True Value')\n",
    "plt.title('Fitted Value')\n",
    "plt.xlabel('X')\n",
    "plt.ylabel('y')\n",
    "plt.legend()\n",
    "plt.show()"
   ]
  },
  {
   "cell_type": "markdown",
   "metadata": {},
   "source": [
    "Here we introduce some definitions and properties in OLS estimation.\n",
    "\n",
    "-   Fitted value: $\\widehat{Y}=X\\widehat{\\beta}$.\n",
    "\n",
    "-   Projector: $P_{X}=X\\left(X'X\\right)^{-1}X$; Annihilator:\n",
    "    $M_{X}=I_{n}-P_{X}$.\n",
    "\n",
    "-   $P_{X}M_{X}=M_{X}P_{X}=0$.\n",
    "\n",
    "-   If $AA=A$, we call it an idempotent matrix. Both $P_{X}$ and $M_{X}$\n",
    "    are idempotent.\n",
    "\n",
    "-   Residual:\n",
    "    $\\widehat{e}=Y-\\widehat{Y}=Y-X\\widehat{\\beta}=M_{X}Y=M_{X}\\left(X\\beta+e\\right)=M_{X}e$.\n",
    "\n",
    "-   $X'\\widehat{e}=XM_{X}e=0$.\n",
    "\n",
    "-   $\\frac{1}{n}\\sum_{i=1}^{n}\\widehat{e}_{i}=0$ if $x_{i}$ contains a\n",
    "    constant."
   ]
  },
  {
   "cell_type": "code",
   "execution_count": 5,
   "metadata": {},
   "outputs": [
    {
     "data": {
      "image/png": "[encoded data removed]",
      "text/plain": [
       "<Figure size 432x288 with 1 Axes>"
      ]
     },
     "metadata": {
      "needs_background": "light"
     },
     "output_type": "display_data"
    }
   ],
   "source": [
    "plt.plot(X[:, 1], y, 'o')\n",
    "plt.plot(X[:, 1], np.dot(X, b0), color='red', linestyle='-')\n",
    "plt.plot(X[:, 1], np.dot(X, bhat), color='black', linestyle='-')\n",
    "plt.title('regression')\n",
    "plt.xlabel('X')\n",
    "plt.ylabel('Y')\n",
    "plt.axhline(0, color = 'black', linestyle = 'dashed')\n",
    "plt.axvline(0, color = 'black', linestyle = 'dashed')\n",
    "plt.show()"
   ]
  },
  {
   "cell_type": "code",
   "execution_count": 6,
   "metadata": {},
   "outputs": [
    {
     "name": "stdout",
     "output_type": "stream",
     "text": [
      "[[ 0.5998234   0.5998234   0.5998234 ]\n",
      " [ 1.11605818  1.11605818  1.11605818]\n",
      " [ 0.36184396  0.36184396  0.36184396]\n",
      " [-1.22639942 -1.22639942 -1.22639942]\n",
      " [-1.36906709 -1.36906709 -1.36906709]\n",
      " [-0.97129596 -0.97129596 -0.97129596]\n",
      " [-0.83064016 -0.83064016 -0.83064016]\n",
      " [-1.75838989 -1.75838989 -1.75838989]\n",
      " [ 0.35659873  0.35659873  0.35659873]\n",
      " [-0.47220768 -0.47220768 -0.47220768]\n",
      " [ 1.28158139  1.28158139  1.28158139]\n",
      " [ 1.35561978  1.35561978  1.35561978]\n",
      " [ 2.30043047  2.30043047  2.30043047]\n",
      " [-0.28397183 -0.28397183 -0.28397183]\n",
      " [ 0.08907289  0.08907289  0.08907289]\n",
      " [ 0.71761302  0.71761302  0.71761302]\n",
      " [-0.29643683 -0.29643683 -0.29643683]\n",
      " [ 0.91855747  0.91855747  0.91855747]\n",
      " [ 0.51029829  0.51029829  0.51029829]\n",
      " [-0.53403645 -0.53403645 -0.53403645]\n",
      " [ 0.49042632  0.49042632  0.49042632]\n",
      " [-0.46930232 -0.46930232 -0.46930232]\n",
      " [-0.2430777  -0.2430777  -0.2430777 ]\n",
      " [-2.00926866 -2.00926866 -2.00926866]\n",
      " [ 0.48003603  0.48003603  0.48003603]\n",
      " [-1.12205436 -1.12205436 -1.12205436]\n",
      " [ 0.14539706  0.14539706  0.14539706]\n",
      " [ 0.22630897  0.22630897  0.22630897]\n",
      " [-0.30907003 -0.30907003 -0.30907003]\n",
      " [ 0.94555242  0.94555242  0.94555242]]\n",
      "[[-4.21884749e-15]\n",
      " [-3.53271164e-15]]\n"
     ]
    }
   ],
   "source": [
    "# check the orthogonality of ehat and X1\n",
    "ehat = y - np.dot(X, bhat )\n",
    "MX =  np.identity(n) - X @ np.linalg.inv( X.T @ X)  @ X.T\n",
    "print(  np.hstack( (ehat, MX@e, MX@y) ) )\n",
    "print( X.T @ ehat )"
   ]
  },
  {
   "cell_type": "code",
   "execution_count": 8,
   "metadata": {},
   "outputs": [
    {
     "name": "stdout",
     "output_type": "stream",
     "text": [
      "-1.7023419710919068e-16\n",
      "-5.10702591327572e-15\n",
      "-0.12825709098929042\n"
     ]
    }
   ],
   "source": [
    "print( np.mean(ehat) )\n",
    "print( np.sum(ehat))\n",
    "print( np.mean(e) )"
   ]
  },
  {
   "cell_type": "markdown",
   "metadata": {},
   "source": [
    "**Real Data Example**\n",
    "\n",
    "We check the relationship between *health status* and three control variables: *the number of doctor visits*, *the number of children in the household*, and\n",
    "*access to health care*. \n",
    "\n",
    "*The real data example in Python is to be added\"\n"
   ]
  },
  {
   "cell_type": "code",
   "execution_count": 9,
   "metadata": {},
   "outputs": [
    {
     "name": "stdout",
     "output_type": "stream",
     "text": [
      "[[-0.10075886]\n",
      " [ 0.62091428]]\n",
      "[[ 1.20898789]\n",
      " [ 0.20653828]\n",
      " [-0.10075886]\n",
      " [ 0.62091428]]\n"
     ]
    }
   ],
   "source": [
    "n = 30\n",
    "b0 = np.matrix([[1.0],[0.5],[0.1],[0.5]])\n",
    "\n",
    "e = np.random.normal(size = (n,1))\n",
    "X = np.hstack((np.ones((n, 1)), np.random.normal(size = (n, 3))))\n",
    "y = np.dot(X, b0) + e\n",
    "\n",
    "\n",
    "X2 = X[:,0:2]\n",
    "PX2 = X2 @ np.linalg.inv( X2.T @ X2) @ X2.T\n",
    "MX2 = np.identity(n) - PX2\n",
    "\n",
    "X3 = X[:,2:4]\n",
    "\n",
    "\n",
    "bhat3 =  np.linalg.inv( X3.T@ MX2 @ X3 ) @ (X3.T @ MX2 @ y)\n",
    "print(bhat3)\n",
    "\n",
    "bhat =  np.linalg.inv( X.T@ X ) @ (X.T @ y)\n",
    "print(bhat)"
   ]
  },
  {
   "cell_type": "markdown",
   "metadata": {},
   "source": [
    "Heteroskedasticity"
   ]
  },
  {
   "cell_type": "code",
   "execution_count": 10,
   "metadata": {},
   "outputs": [
    {
     "data": {
      "text/plain": [
       "[<matplotlib.lines.Line2D at 0x230214d3cf8>]"
      ]
     },
     "execution_count": 10,
     "metadata": {},
     "output_type": "execute_result"
    },
    {
     "data": {
      "image/png": "[encoded data removed]",
      "text/plain": [
       "<Figure size 432x288 with 1 Axes>"
      ]
     },
     "metadata": {
      "needs_background": "light"
     },
     "output_type": "display_data"
    }
   ],
   "source": [
    "n = 100\n",
    "x =  np.random.normal(size = (n, 1))\n",
    "\n",
    "e1 =  np.random.normal(size = (n, 1) )\n",
    "plt.plot( x, e1, 'o' )\n",
    "\n",
    "e2 = x * np.random.normal(size = (n, 1) )\n",
    "plt.plot( x, e2, 'o')"
   ]
  },
  {
   "cell_type": "code",
   "execution_count": null,
   "metadata": {},
   "outputs": [],
   "source": []
  }
 ],
 "metadata": {
  "kernel_info": {
   "name": "python3"
  },
  "kernelspec": {
   "display_name": "Python 3",
   "language": "python",
   "name": "python3"
  },
  "language_info": {
   "codemirror_mode": {
    "name": "ipython",
    "version": 3
   },
   "file_extension": ".py",
   "mimetype": "text/x-python",
   "name": "python",
   "nbconvert_exporter": "python",
   "pygments_lexer": "ipython3",
   "version": "3.6.5"
  },
  "nteract": {
   "version": "0.12.3"
  }
 },
 "nbformat": 4,
 "nbformat_minor": 2
}
