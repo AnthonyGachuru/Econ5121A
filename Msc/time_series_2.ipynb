{
 "cells": [
  {
   "cell_type": "markdown",
   "metadata": {
    "slideshow": {
     "slide_type": "slide"
    }
   },
   "source": [
    "# Autoregression and Moving Average\n",
    "\n",
    "* Box-Jenkins (1976)\n",
    "* No economic theory. For fitting and prediction only."
   ]
  },
  {
   "cell_type": "markdown",
   "metadata": {
    "slideshow": {
     "slide_type": "slide"
    }
   },
   "source": [
    "# Time Series Probability Model\n",
    "\n",
    "* $X(t,\\omega)$\n",
    "* For a fixed $t=1,\\ldots,T,$ $X(t,\\cdot)$ is a random variable\n",
    "* For a fixed $\\omega \\in \\Omega$, $X(\\cdot,\\omega)$ is a sequence\n"
   ]
  },
  {
   "cell_type": "markdown",
   "metadata": {
    "slideshow": {
     "slide_type": "slide"
    }
   },
   "source": [
    "# Some Simple Models\n",
    "\n",
    "* White noise: $(e_t)_{t=-\\infty}^{\\infty}$:\n",
    "    * $E[e_t] = 0$, $E[e_t^2] = \\sigma_e^2$, and $E[e_t, e_s] = 0$ for all $t\\neq s$. "
   ]
  },
  {
   "cell_type": "markdown",
   "metadata": {
    "slideshow": {
     "slide_type": "slide"
    }
   },
   "source": [
    "# ARMA\n",
    "\n",
    "\n",
    "* AR(p) $$ y_t = \\mu + \\gamma_1 y_{t-1} + \\cdots \\gamma_p y_{t-p} + e_t $$\n",
    "* MA(q) $$ y_t = \\mu + e_t - \\theta_1 e_{t-1} - \\theta_q e_{t-q} + e_t $$\n",
    "* ARMA(p,q) $$(1-\\Gamma(L) ) y_t = \\mu + \\Theta (L) e_t$$\n",
    "\n",
    "Stationarity: in AR form whether all roots lies out of the unit cycle."
   ]
  },
  {
   "cell_type": "markdown",
   "metadata": {
    "slideshow": {
     "slide_type": "slide"
    }
   },
   "source": [
    "# Autocorrelation Pattern\n",
    "\n",
    "\n",
    "* MA(q): finite dependence\n",
    "* AR(1): geometric decline\n",
    "    * $E[ y_t ] = \\mu / (1-\\gamma_1)$\n",
    "    * $\\mathrm{var}[y_t] = \\sigma_e^2 / (1-\\gamma_1^2 )$\n",
    "    * $E[ y_t | y_{t-1} ] = \\mu + \\gamma_1 y_{t-1}$\n",
    "    * $\\mathrm{var}[y_t | y_{t-1} ] = \\sigma_e^2 $\n",
    "    \n"
   ]
  },
  {
   "cell_type": "markdown",
   "metadata": {
    "slideshow": {
     "slide_type": "slide"
    }
   },
   "source": [
    "# Modeling\n",
    "\n",
    "* Transform into stationary time series by taking logarithm and/or difference.\n",
    "* Fit ARMA(p,q)\n",
    "\n",
    "# Estimation\n",
    "\n",
    "* MLE for MA(q)\n",
    "* MLE for ARMA(p,q)\n",
    "* OLS for AR(p)\n"
   ]
  },
  {
   "cell_type": "markdown",
   "metadata": {
    "slideshow": {
     "slide_type": "slide"
    }
   },
   "source": [
    "# AR(1) without drift\n",
    "\n",
    "$$y_t = \\gamma_1 y_{t-1} + e_t$$\n",
    "\n",
    "$$\n",
    "\\begin{align*}\n",
    "\\sqrt{T} ( \\hat{\\gamma}_1 - \\gamma_1 ) & = \\sqrt{T} \\frac{ \\sum_{t=2}^T y_{t-1} e_t }{\\sum_{t=2}^{T} y_{t-1}^2 } \\\\\n",
    "& \\stackrel{d}{\\to} N \\bigg( 0, \\frac{  \\mathrm{var}[y_t] \\mathrm{var}[e_t] }{ (\\mathrm{var}[y_t])^2 }  \\bigg)\\\\\n",
    "& \\sim N \\bigg(0, \\frac{\\sigma_e^2}{ \\sigma_e^2 / (1-\\gamma_1^2) } \\bigg) \\\\\n",
    "& \\sim N\\big(0,  1-\\gamma_1^2  \\big) \n",
    "\\end{align*}\n",
    "$$\n",
    "\n",
    "\n",
    "        "
   ]
  },
  {
   "cell_type": "markdown",
   "metadata": {
    "slideshow": {
     "slide_type": "subslide"
    }
   },
   "source": [
    "What happens when $|\\gamma_1| \\to 1$?"
   ]
  },
  {
   "cell_type": "markdown",
   "metadata": {
    "slideshow": {
     "slide_type": "slide"
    }
   },
   "source": [
    "# Unit Root\n",
    "\n",
    "* ARIMA(1,1,0) $$y_t = \\mu + y_{t-1} + e_t $$\n",
    "* Nonstationary\n",
    "* Brownian motion: normal innovation\n",
    "* Random walk"
   ]
  },
  {
   "cell_type": "markdown",
   "metadata": {
    "slideshow": {
     "slide_type": "slide"
    }
   },
   "source": [
    "## Implication\n",
    "* mean\n",
    "* variance\n",
    "* $h$-period ahead forecast"
   ]
  },
  {
   "cell_type": "markdown",
   "metadata": {
    "slideshow": {
     "slide_type": "fragment"
    }
   },
   "source": [
    "The OLS estimator \n",
    "$$ T( \\hat{\\gamma}_1 - \\gamma_1 ) \\stackrel{d}{\\to} \\mbox{ a stable distribution}.$$\n",
    "but the asymptotic distribution is not normal."
   ]
  },
  {
   "cell_type": "code",
   "execution_count": 1,
   "metadata": {
    "scrolled": true,
    "slideshow": {
     "slide_type": "slide"
    }
   },
   "outputs": [
    {
     "name": "stderr",
     "output_type": "stream",
     "text": [
      "Loading required package: xts\n",
      "Loading required package: zoo\n",
      "\n",
      "Attaching package: 'zoo'\n",
      "\n",
      "The following objects are masked from 'package:base':\n",
      "\n",
      "    as.Date, as.Date.numeric\n",
      "\n",
      "Loading required package: TTR\n",
      "Version 0.4-0 included new data defaults. See ?getSymbols.\n",
      "'getSymbols' currently uses auto.assign=TRUE by default, but will\n",
      "use auto.assign=FALSE in 0.5-0. You will still be able to use\n",
      "'loadSymbols' to automatically load data. getOption(\"getSymbols.env\")\n",
      "and getOption(\"getSymbols.auto.assign\") will still be checked for\n",
      "alternate defaults.\n",
      "\n",
      "This message is shown once per session and may be disabled by setting \n",
      "options(\"getSymbols.warning4.0\"=FALSE). See ?getSymbols for details.\n",
      "\n",
      "\n",
      "WARNING: There have been significant changes to Yahoo Finance data.\n",
      "Please see the Warning section of '?getSymbols.yahoo' for details.\n",
      "\n",
      "This message is shown once per session and may be disabled by setting\n",
      "options(\"getSymbols.yahoo.warning\"=FALSE).\n"
     ]
    },
    {
     "data": {
      "text/html": [
       "'SPY'"
      ],
      "text/latex": [
       "'SPY'"
      ],
      "text/markdown": [
       "'SPY'"
      ],
      "text/plain": [
       "[1] \"SPY\""
      ]
     },
     "metadata": {},
     "output_type": "display_data"
    },
    {
     "data": {},
     "metadata": {},
     "output_type": "display_data"
    },
    {
     "data": {
      "image/png": "[encoded data removed]",
      "text/plain": [
       "plot without title"
      ]
     },
     "metadata": {},
     "output_type": "display_data"
    }
   ],
   "source": [
    "library(quantmod)\n",
    "getSymbols(\"SPY\") # S&P 500\n",
    "y = SPY$SPY.Close\n",
    "plot(y, type = \"l\") "
   ]
  },
  {
   "cell_type": "markdown",
   "metadata": {
    "slideshow": {
     "slide_type": "slide"
    }
   },
   "source": [
    "* Null hypothesis: unit root.\n",
    "* In this numerical example, the test does not reject the null.\n",
    "\n",
    "Notice: the test is one-sided."
   ]
  },
  {
   "cell_type": "code",
   "execution_count": 2,
   "metadata": {
    "slideshow": {
     "slide_type": "-"
    }
   },
   "outputs": [
    {
     "name": "stdout",
     "output_type": "stream",
     "text": [
      "\n",
      "############################################### \n",
      "# Augmented Dickey-Fuller Test Unit Root Test # \n",
      "############################################### \n",
      "\n",
      "Test regression drift \n",
      "\n",
      "\n",
      "Call:\n",
      "lm(formula = z.diff ~ z.lag.1 + 1 + z.diff.lag)\n",
      "\n",
      "Residuals:\n",
      "     Min       1Q   Median       3Q      Max \n",
      "-11.9104  -0.7141   0.0735   0.8595  12.6908 \n",
      "\n",
      "Coefficients:\n",
      "              Estimate Std. Error t value Pr(>|t|)   \n",
      "(Intercept)  3.103e-02  1.023e-01   0.303  0.76168   \n",
      "z.lag.1      8.039e-05  5.769e-04   0.139  0.88918   \n",
      "z.diff.lag  -5.501e-02  1.826e-02  -3.013  0.00261 **\n",
      "---\n",
      "Signif. codes:  0 '***' 0.001 '**' 0.01 '*' 0.05 '.' 0.1 ' ' 1\n",
      "\n",
      "Residual standard error: 1.703 on 2993 degrees of freedom\n",
      "Multiple R-squared:  0.003024,\tAdjusted R-squared:  0.002357 \n",
      "F-statistic: 4.539 on 2 and 2993 DF,  p-value: 0.01076\n",
      "\n",
      "\n",
      "Value of test-statistic is: 0.1394 1.0376 \n",
      "\n",
      "Critical values for test statistics: \n",
      "      1pct  5pct 10pct\n",
      "tau2 -3.43 -2.86 -2.57\n",
      "phi1  6.43  4.59  3.78\n",
      "\n"
     ]
    }
   ],
   "source": [
    "library(urca) # package for unit root and cointegration\n",
    "print( summary(ur.df(y, type = \"drift\") ) )"
   ]
  },
  {
   "cell_type": "markdown",
   "metadata": {
    "slideshow": {
     "slide_type": "slide"
    }
   },
   "source": [
    "## Specification of DF test\n",
    "\n",
    "* Drift and trend\n",
    "* Augmented Dicky-Fuller test: add more differenced lag terms"
   ]
  },
  {
   "cell_type": "markdown",
   "metadata": {
    "slideshow": {
     "slide_type": "slide"
    }
   },
   "source": [
    "## Other tests\n",
    "* Phillips-Perron test\n",
    "* KPSS test"
   ]
  },
  {
   "cell_type": "markdown",
   "metadata": {
    "slideshow": {
     "slide_type": "slide"
    }
   },
   "source": [
    "# Cointegration\n",
    "\n",
    "In a regression\n",
    "$$y_t = \\beta x_t  + e_t$$\n",
    "\n",
    "* If $y_t$ and $x_t$ are I(1) series\n",
    "* But a linear combination $e_t = y_t - \\beta x_t $ is I(0)\n",
    "\n",
    "then we say $y_t$ and $x_t$ are cointegrated."
   ]
  },
  {
   "cell_type": "code",
   "execution_count": 3,
   "metadata": {
    "slideshow": {
     "slide_type": "slide"
    }
   },
   "outputs": [],
   "source": [
    "data(denmark)\n",
    "?denmark"
   ]
  },
  {
   "cell_type": "markdown",
   "metadata": {
    "slideshow": {
     "slide_type": "-"
    }
   },
   "source": [
    "period: Time index from 1974:Q1 until 1987:Q3.\n",
    "* `LRM`\tLogarithm of real money, M2.\n",
    "* `LRY`\tLogarithm of real income.\n",
    "* `LPY`\tLogarithm of price deflator.\n",
    "* `IBO`\tBond rate.\n",
    "* `IDE`\tBank deposit rate."
   ]
  },
  {
   "cell_type": "code",
   "execution_count": 4,
   "metadata": {
    "slideshow": {
     "slide_type": "subslide"
    }
   },
   "outputs": [
    {
     "data": {
      "image/png": "[encoded data removed]",
      "text/plain": [
       "plot without title"
      ]
     },
     "metadata": {},
     "output_type": "display_data"
    }
   ],
   "source": [
    "sjd <- denmark[, c(\"LRM\", \"LRY\", \"IBO\", \"IDE\")]\n",
    "matplot(sjd[,c(3,4)], type = \"l\")"
   ]
  },
  {
   "cell_type": "code",
   "execution_count": 5,
   "metadata": {
    "slideshow": {
     "slide_type": "subslide"
    }
   },
   "outputs": [
    {
     "data": {
      "image/png": "[encoded data removed]",
      "text/plain": [
       "plot without title"
      ]
     },
     "metadata": {},
     "output_type": "display_data"
    }
   ],
   "source": [
    "y = sjd[,3]; x = sjd[,4]\n",
    "reg = lm(y~x)\n",
    "plot(residuals(reg), type = \"l\")"
   ]
  },
  {
   "cell_type": "markdown",
   "metadata": {},
   "source": [
    "# Source of Cointegration\n",
    "\n",
    "Common shock is the source of cointegration\n",
    "\n",
    "For example, if $y_{1t} = \\mu_1 + \\beta_1 t + e_{1t}$ and $y_{2t} = \\mu_2 + \\beta_2 t + e_{2t}$, where $e_{1t}$ and $e_{2t}$ are two white noises, then the cointegration vector must be $(1,\\theta)$ where $$\\theta = - \\beta_1 / \\beta_2$$."
   ]
  },
  {
   "cell_type": "markdown",
   "metadata": {
    "slideshow": {
     "slide_type": "slide"
    }
   },
   "source": [
    "# Cointegration \n",
    "\n",
    "More generally, for an $m$-vector $y_t$ is cointegrated if there exists a parameter vector $\\gamma$ (normalize the first element to be 1) such that $y_t ' \\gamma$ is I(0).\n",
    "\n"
   ]
  },
  {
   "cell_type": "markdown",
   "metadata": {
    "slideshow": {
     "slide_type": "fragment"
    }
   },
   "source": [
    "* The number of linear independent cointegrated vectors is called the **cointegration rank**. \n",
    "* The cointegration rank arranges from 1 to $m-1$."
   ]
  },
  {
   "cell_type": "markdown",
   "metadata": {
    "slideshow": {
     "slide_type": "slide"
    }
   },
   "source": [
    "# VECM Representation\n",
    "\n",
    "For the $m$-equation VAR system \n",
    "$$y_t = \\Gamma y_{t-1} + e_t,$$ we can rewrite it as\n",
    "$$ \\Delta y_t = (\\Gamma - I_m) y_{t-1} + e_t = \\Pi y_{t-1} + e_t.$$\n",
    "\n",
    "* Since LHS is stationary, the $m\\times m$ matrix $\\Pi$ on the RHS must only have rank $r$. \n",
    "* Otherwise, the RHS will be I(1) and the two sides of the equation are unbalanced.\n",
    "* VECM is the base for the cointegration rank test (Johansen, 1992)."
   ]
  },
  {
   "cell_type": "markdown",
   "metadata": {
    "slideshow": {
     "slide_type": "slide"
    }
   },
   "source": [
    "# Numerical Example: Johansen Test\n",
    "\n",
    "The result shows that there is only 1 cointegration relationship among the 4 time series."
   ]
  },
  {
   "cell_type": "code",
   "execution_count": 6,
   "metadata": {
    "slideshow": {
     "slide_type": "subslide"
    }
   },
   "outputs": [
    {
     "data": {
      "text/plain": [
       "\n",
       "###################### \n",
       "# Johansen-Procedure # \n",
       "###################### \n",
       "\n",
       "Test type: maximal eigenvalue statistic (lambda max) , without linear trend and constant in cointegration \n",
       "\n",
       "Eigenvalues (lambda):\n",
       "[1] 4.696767e-01 1.742411e-01 1.180826e-01 4.224854e-02 2.729552e-15\n",
       "\n",
       "Values of teststatistic and critical values of test:\n",
       "\n",
       "          test 10pct  5pct  1pct\n",
       "r <= 3 |  2.29  7.52  9.24 12.97\n",
       "r <= 2 |  6.66 13.75 15.67 20.20\n",
       "r <= 1 | 10.15 19.77 22.00 26.81\n",
       "r = 0  | 33.62 25.56 28.14 33.24\n",
       "\n",
       "Eigenvectors, normalised to first column:\n",
       "(These are the cointegration relations)\n",
       "\n",
       "             LRM.l2     LRY.l2    IBO.l2      IDE.l2   constant\n",
       "LRM.l2    1.0000000  1.0000000  1.000000   1.0000000  1.0000000\n",
       "LRY.l2   -0.9691164 -1.3759873 -2.259218  -0.1438558 -0.4095683\n",
       "IBO.l2    5.4027719 -0.3351646  1.640803 -11.7073710  2.3548120\n",
       "IDE.l2   -4.1403255  9.0058943 -3.719279   7.5375133 -1.1374017\n",
       "constant -6.4780511 -4.3297635  1.786142 -10.2593484 -9.5375812\n",
       "\n",
       "Weights W:\n",
       "(This is the loading matrix)\n",
       "\n",
       "            LRM.l2        LRY.l2       IBO.l2        IDE.l2      constant\n",
       "LRM.d -0.299784297 -0.0253307615  0.066658856 -4.074835e-03 -4.308067e-13\n",
       "LRY.d  0.026943026 -0.0002905265  0.102017360 -1.281978e-03  2.709212e-13\n",
       "IBO.d  0.003921355 -0.0102805673  0.006040391  2.475915e-03  2.460352e-14\n",
       "IDE.d  0.020000889 -0.0263315718 -0.003826538  8.153524e-06  1.320607e-14\n"
      ]
     },
     "metadata": {},
     "output_type": "display_data"
    }
   ],
   "source": [
    "sjd.vecm = ca.jo(sjd, ecdet = \"const\", type=\"eigen\", K=2, spec=\"longrun\")\n",
    "summary(sjd.vecm)\n"
   ]
  }
 ],
 "metadata": {
  "celltoolbar": "Slideshow",
  "kernel_info": {
   "name": "ir"
  },
  "kernelspec": {
   "display_name": "R",
   "language": "R",
   "name": "ir"
  },
  "language_info": {
   "codemirror_mode": "r",
   "file_extension": ".r",
   "mimetype": "text/x-r-source",
   "name": "R",
   "pygments_lexer": "r",
   "version": "3.5.0"
  },
  "nteract": {
   "version": "0.12.3"
  }
 },
 "nbformat": 4,
 "nbformat_minor": 2
}
