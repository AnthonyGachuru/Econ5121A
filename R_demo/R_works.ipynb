{
  "cells": [
    {
      "cell_type": "markdown",
      "source": [
        "It checks if the R kernel in Ipython notebook works or not."
      ],
      "metadata": {}
    },
    {
      "cell_type": "code",
      "source": [
        "x = rnorm(100)\n",
        "x = as.ts(x)\n",
        "plot(x)"
      ],
      "outputs": [],
      "execution_count": null,
      "metadata": {}
    }
  ],
  "metadata": {
    "kernelspec": {
      "name": "ir",
      "language": "R",
      "display_name": "R"
    },
    "language_info": {
      "name": "R",
      "codemirror_mode": "r",
      "pygments_lexer": "r",
      "mimetype": "text/x-r-source",
      "file_extension": ".r",
      "version": "3.5.0"
    },
    "kernel_info": {
      "name": "ir"
    },
    "nteract": {
      "version": "0.11.6"
    }
  },
  "nbformat": 4,
  "nbformat_minor": 2
}