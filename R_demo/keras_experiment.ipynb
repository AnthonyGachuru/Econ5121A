{
 "cells": [
  {
   "cell_type": "code",
   "execution_count": 43,
   "metadata": {},
   "outputs": [],
   "source": [
    "import pandas as pd\n",
    "import numpy as np\n",
    "import keras"
   ]
  },
  {
   "cell_type": "code",
   "execution_count": 44,
   "metadata": {},
   "outputs": [],
   "source": [
    "from matplotlib import pyplot as plt\n",
    "\n",
    "from keras.layers import Input, Dense\n",
    "from keras.models import Model\n",
    "\n",
    "from sklearn.preprocessing import StandardScaler, MinMaxScaler, Normalizer\n",
    "\n",
    "%matplotlib inline"
   ]
  },
  {
   "cell_type": "code",
   "execution_count": 45,
   "metadata": {},
   "outputs": [],
   "source": [
    "df0 = pd.read_csv(\"flightDelay.csv\")"
   ]
  },
  {
   "cell_type": "code",
   "execution_count": 46,
   "metadata": {},
   "outputs": [
    {
     "data": {
      "text/html": [
       "<div>\n",
       "<style scoped>\n",
       "    .dataframe tbody tr th:only-of-type {\n",
       "        vertical-align: middle;\n",
       "    }\n",
       "\n",
       "    .dataframe tbody tr th {\n",
       "        vertical-align: top;\n",
       "    }\n",
       "\n",
       "    .dataframe thead th {\n",
       "        text-align: right;\n",
       "    }\n",
       "</style>\n",
       "<table border=\"1\" class=\"dataframe\">\n",
       "  <thead>\n",
       "    <tr style=\"text-align: right;\">\n",
       "      <th></th>\n",
       "      <th>Year</th>\n",
       "      <th>Month</th>\n",
       "      <th>DayofMonth</th>\n",
       "      <th>DayOfWeek</th>\n",
       "      <th>Carrier</th>\n",
       "      <th>OriginAirportID</th>\n",
       "      <th>DestAirportID</th>\n",
       "      <th>CRSDepTime</th>\n",
       "      <th>DepDelay</th>\n",
       "      <th>DepDel15</th>\n",
       "      <th>CRSArrTime</th>\n",
       "      <th>ArrDelay</th>\n",
       "      <th>ArrDel15</th>\n",
       "      <th>Cancelled</th>\n",
       "    </tr>\n",
       "  </thead>\n",
       "  <tbody>\n",
       "    <tr>\n",
       "      <th>0</th>\n",
       "      <td>2013</td>\n",
       "      <td>8</td>\n",
       "      <td>3</td>\n",
       "      <td>6</td>\n",
       "      <td>DL</td>\n",
       "      <td>10397</td>\n",
       "      <td>14747</td>\n",
       "      <td>1754</td>\n",
       "      <td>-3.0</td>\n",
       "      <td>0.0</td>\n",
       "      <td>2013</td>\n",
       "      <td>-5.0</td>\n",
       "      <td>0</td>\n",
       "      <td>0</td>\n",
       "    </tr>\n",
       "    <tr>\n",
       "      <th>1</th>\n",
       "      <td>2013</td>\n",
       "      <td>4</td>\n",
       "      <td>21</td>\n",
       "      <td>7</td>\n",
       "      <td>DL</td>\n",
       "      <td>11193</td>\n",
       "      <td>13204</td>\n",
       "      <td>905</td>\n",
       "      <td>-7.0</td>\n",
       "      <td>0.0</td>\n",
       "      <td>1112</td>\n",
       "      <td>2.0</td>\n",
       "      <td>0</td>\n",
       "      <td>0</td>\n",
       "    </tr>\n",
       "    <tr>\n",
       "      <th>2</th>\n",
       "      <td>2013</td>\n",
       "      <td>7</td>\n",
       "      <td>9</td>\n",
       "      <td>2</td>\n",
       "      <td>AA</td>\n",
       "      <td>11298</td>\n",
       "      <td>13487</td>\n",
       "      <td>2025</td>\n",
       "      <td>35.0</td>\n",
       "      <td>1.0</td>\n",
       "      <td>2245</td>\n",
       "      <td>25.0</td>\n",
       "      <td>1</td>\n",
       "      <td>0</td>\n",
       "    </tr>\n",
       "    <tr>\n",
       "      <th>3</th>\n",
       "      <td>2013</td>\n",
       "      <td>5</td>\n",
       "      <td>23</td>\n",
       "      <td>4</td>\n",
       "      <td>B6</td>\n",
       "      <td>11057</td>\n",
       "      <td>10721</td>\n",
       "      <td>1000</td>\n",
       "      <td>-9.0</td>\n",
       "      <td>0.0</td>\n",
       "      <td>1208</td>\n",
       "      <td>-18.0</td>\n",
       "      <td>0</td>\n",
       "      <td>0</td>\n",
       "    </tr>\n",
       "    <tr>\n",
       "      <th>4</th>\n",
       "      <td>2013</td>\n",
       "      <td>5</td>\n",
       "      <td>2</td>\n",
       "      <td>4</td>\n",
       "      <td>AA</td>\n",
       "      <td>13930</td>\n",
       "      <td>11298</td>\n",
       "      <td>740</td>\n",
       "      <td>-3.0</td>\n",
       "      <td>0.0</td>\n",
       "      <td>1010</td>\n",
       "      <td>-6.0</td>\n",
       "      <td>0</td>\n",
       "      <td>0</td>\n",
       "    </tr>\n",
       "  </tbody>\n",
       "</table>\n",
       "</div>"
      ],
      "text/plain": [
       "   Year  Month  DayofMonth  DayOfWeek Carrier  OriginAirportID  DestAirportID  \\\n",
       "0  2013      8           3          6      DL            10397          14747   \n",
       "1  2013      4          21          7      DL            11193          13204   \n",
       "2  2013      7           9          2      AA            11298          13487   \n",
       "3  2013      5          23          4      B6            11057          10721   \n",
       "4  2013      5           2          4      AA            13930          11298   \n",
       "\n",
       "   CRSDepTime  DepDelay  DepDel15  CRSArrTime  ArrDelay  ArrDel15  Cancelled  \n",
       "0        1754      -3.0       0.0        2013      -5.0         0          0  \n",
       "1         905      -7.0       0.0        1112       2.0         0          0  \n",
       "2        2025      35.0       1.0        2245      25.0         1          0  \n",
       "3        1000      -9.0       0.0        1208     -18.0         0          0  \n",
       "4         740      -3.0       0.0        1010      -6.0         0          0  "
      ]
     },
     "execution_count": 46,
     "metadata": {},
     "output_type": "execute_result"
    }
   ],
   "source": [
    "df0.head()"
   ]
  },
  {
   "cell_type": "code",
   "execution_count": 47,
   "metadata": {},
   "outputs": [
    {
     "name": "stdout",
     "output_type": "stream",
     "text": [
      "270\n",
      "range(0, 135)\n",
      "range(136, 270)\n"
     ]
    }
   ],
   "source": [
    "df = df0[[\"CRSDepTime\", \"DepDelay\", \"ArrDelay\"]].dropna()\n",
    "n = len(df)\n",
    "n_train = range( int(n/2) )\n",
    "n_test = range( int(n/2)+1, n)\n",
    "print(n)\n",
    "print(n_train)\n",
    "print(n_test)"
   ]
  },
  {
   "cell_type": "code",
   "execution_count": 48,
   "metadata": {},
   "outputs": [],
   "source": [
    "df_train = df.iloc[n_train]\n",
    "df_test  = df.iloc[n_test]\n",
    "\n"
   ]
  },
  {
   "cell_type": "code",
   "execution_count": 49,
   "metadata": {},
   "outputs": [],
   "source": [
    "X_train = df_train[ [\"CRSDepTime\", \"DepDelay\"] ]\n",
    "y_train = df_train[ [\"ArrDelay\"] ]\n",
    "X_test  = df_test [ [\"CRSDepTime\", \"DepDelay\"] ]\n",
    "y_test  = df_test [ [\"ArrDelay\"] ]"
   ]
  },
  {
   "cell_type": "code",
   "execution_count": 50,
   "metadata": {},
   "outputs": [
    {
     "data": {
      "text/plain": [
       "array([[ 655.,   -5.,  -18.],\n",
       "       [1355.,   -9.,  -11.],\n",
       "       [2210.,   40.,   31.],\n",
       "       [1240.,  320.,  283.],\n",
       "       [1405.,   -8.,    0.]])"
      ]
     },
     "execution_count": 50,
     "metadata": {},
     "output_type": "execute_result"
    }
   ],
   "source": [
    "np.hstack( (X_test, y_test) )[ 0:5 ]"
   ]
  },
  {
   "cell_type": "code",
   "execution_count": 51,
   "metadata": {},
   "outputs": [],
   "source": [
    "sc = StandardScaler()\n",
    "x_ = sc.fit_transform(X_train)\n",
    "y_ = sc.fit_transform(y_train)"
   ]
  },
  {
   "cell_type": "code",
   "execution_count": 52,
   "metadata": {},
   "outputs": [
    {
     "name": "stdout",
     "output_type": "stream",
     "text": [
      "Epoch 1/10\n",
      "135/135 [==============================] - 0s 2ms/step - loss: 0.2672\n",
      "Epoch 2/10\n",
      "135/135 [==============================] - 0s 658us/step - loss: 0.1453\n",
      "Epoch 3/10\n",
      "135/135 [==============================] - 0s 584us/step - loss: 0.1436\n",
      "Epoch 4/10\n",
      "135/135 [==============================] - 0s 547us/step - loss: 0.1434\n",
      "Epoch 5/10\n",
      "135/135 [==============================] - 0s 635us/step - loss: 0.1434\n",
      "Epoch 6/10\n",
      "135/135 [==============================] - 0s 613us/step - loss: 0.1434\n",
      "Epoch 7/10\n",
      "135/135 [==============================] - 0s 613us/step - loss: 0.1434\n",
      "Epoch 8/10\n",
      "135/135 [==============================] - 0s 694us/step - loss: 0.1434\n",
      "Epoch 9/10\n",
      "135/135 [==============================] - 0s 665us/step - loss: 0.1434\n",
      "Epoch 10/10\n",
      "135/135 [==============================] - 0s 761us/step - loss: 0.1434\n"
     ]
    }
   ],
   "source": [
    "# see the ecplanation at \n",
    "# https://stackoverflow.com/questions/37232782/nan-loss-when-training-regression-network\n",
    "# about loss: nan\n",
    "\n",
    "# Not really. These nan is because the data contrains NA. \n",
    "# use .dropna() to remove NAs.\n",
    "\n",
    "inputs = Input(shape=(2,)) # the # of columns of the train data X\n",
    "preds = Dense(1, activation='linear') (inputs)\n",
    "\n",
    "model = Model(inputs=inputs,outputs=preds)\n",
    "\n",
    "sgd=keras.optimizers.SGD(lr = 0.01)\n",
    "# adm = keras.optimizers.Nadam(lr = 0.0001)\n",
    "# adag = keras.optimizers.Adagrad(lr=0.00000001, epsilon=None, decay=0.0)\n",
    "model.compile(optimizer=sgd, loss='mse')\n",
    "history = model.fit(x_, y_, batch_size=1, verbose=1, epochs=10, shuffle=False)\n"
   ]
  },
  {
   "cell_type": "code",
   "execution_count": 53,
   "metadata": {},
   "outputs": [
    {
     "name": "stdout",
     "output_type": "stream",
     "text": [
      "841.5095779646689\n",
      "ArrDelay    841.509591\n",
      "dtype: float64\n",
      "_________________________________________________________________\n",
      "Layer (type)                 Output Shape              Param #   \n",
      "=================================================================\n",
      "input_5 (InputLayer)         (None, 2)                 0         \n",
      "_________________________________________________________________\n",
      "dense_5 (Dense)              (None, 1)                 3         \n",
      "=================================================================\n",
      "Total params: 3\n",
      "Trainable params: 3\n",
      "Non-trainable params: 0\n",
      "_________________________________________________________________\n",
      "None\n",
      "{'loss': [0.2672259312629548, 0.14530477765804356, 0.14356928926451507, 0.14340395307781026, 0.14338273868574847, 0.14337986856104787, 0.143379478288952, 0.1433794204036699, 0.1433794204738391, 0.14337942042022944]}\n"
     ]
    }
   ],
   "source": [
    "score = model.evaluate(X_test, y_test, verbose=0) # report the MSE\n",
    "print(score)\n",
    "print( np.mean( (model.predict(X_test) - y_test)**2 ) )\n",
    "\n",
    "print(model.summary())\n",
    "\n",
    "print(history.history )"
   ]
  },
  {
   "cell_type": "code",
   "execution_count": 54,
   "metadata": {},
   "outputs": [
    {
     "data": {
      "text/plain": [
       "<matplotlib.collections.PathCollection at 0x1f6d1344320>"
      ]
     },
     "execution_count": 54,
     "metadata": {},
     "output_type": "execute_result"
    },
    {
     "data": {
      "image/png": "[encoded data removed]",
      "text/plain": [
       "<Figure size 432x288 with 1 Axes>"
      ]
     },
     "metadata": {},
     "output_type": "display_data"
    }
   ],
   "source": [
    "plt.scatter(X_train[[\"DepDelay\"]], y_train,color='black')"
   ]
  },
  {
   "cell_type": "code",
   "execution_count": 58,
   "metadata": {},
   "outputs": [
    {
     "name": "stdout",
     "output_type": "stream",
     "text": [
      "[<tf.Variable 'dense_5/kernel:0' shape=(2, 1) dtype=float32_ref>, <tf.Variable 'dense_5/bias:0' shape=(1,) dtype=float32_ref>]\n"
     ]
    },
    {
     "data": {
      "text/plain": [
       "[array([[0.01627794],\n",
       "        [0.9000024 ]], dtype=float32), array([-0.00252398], dtype=float32)]"
      ]
     },
     "execution_count": 58,
     "metadata": {},
     "output_type": "execute_result"
    }
   ],
   "source": [
    "weights = model.trainable_weights # weight tensors\n",
    "print(weights)\n",
    "import keras.backend as K\n",
    "K.get_session().run(model.trainable_weights)"
   ]
  },
  {
   "cell_type": "code",
   "execution_count": 57,
   "metadata": {},
   "outputs": [
    {
     "data": {
      "text/plain": [
       "<matplotlib.collections.PathCollection at 0x1f6d13f3ba8>"
      ]
     },
     "execution_count": 57,
     "metadata": {},
     "output_type": "execute_result"
    },
    {
     "data": {
      "image/png": "[encoded data removed]",
      "text/plain": [
       "<Figure size 432x288 with 1 Axes>"
      ]
     },
     "metadata": {},
     "output_type": "display_data"
    }
   ],
   "source": [
    "plt.scatter(X_test[[\"DepDelay\"]], model.predict(X_test), color='blue', linewidth=1)"
   ]
  }
 ],
 "metadata": {
  "kernelspec": {
   "display_name": "Python 3",
   "language": "python",
   "name": "python3"
  },
  "language_info": {
   "codemirror_mode": {
    "name": "ipython",
    "version": 3
   },
   "file_extension": ".py",
   "mimetype": "text/x-python",
   "name": "python",
   "nbconvert_exporter": "python",
   "pygments_lexer": "ipython3",
   "version": "3.6.5"
  }
 },
 "nbformat": 4,
 "nbformat_minor": 2
}
